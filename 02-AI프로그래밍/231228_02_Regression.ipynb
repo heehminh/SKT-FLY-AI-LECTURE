{
  "nbformat": 4,
  "nbformat_minor": 0,
  "metadata": {
    "colab": {
      "provenance": []
    },
    "kernelspec": {
      "name": "python3",
      "display_name": "Python 3"
    },
    "language_info": {
      "name": "python"
    }
  },
  "cells": [
    {
      "cell_type": "markdown",
      "source": [
        "# 회귀분석\n",
        "독립변수(x)로 종속변수(y)를 예측하는 것\n",
        "- 독립변수: 변수의 변화원인이 모형 밖에 있는 변수\n",
        "- 종속변수: 변수의 변화원인이 모형 안에 있는 변수"
      ],
      "metadata": {
        "id": "13MYt8J2BDt6"
      }
    },
    {
      "cell_type": "markdown",
      "source": [
        "## 선형회귀\n",
        "독립변수와 종속변수 사이에 직선적인 형태의 관계가 있다고 가정\n",
        "- 독립변수가 일정하게 증가하면, 종속변수도 그에 비례해서 증가하거나 또는 감소하는 형태\n",
        "- 선형 모형에서 x와 y의 관계를 수식"
      ],
      "metadata": {
        "id": "xHZb8JRsBW5D"
      }
    },
    {
      "cell_type": "markdown",
      "source": [
        "회귀분석을 통해 우리는 무엇을 알 수 있을까?\n",
        "1. 모형 적합도: 모형이 데이터에 얼마나 잘 맞는가? (식샤랑과 체중의 관계가 데이터에 잘 맞는지 검증해볼 수 있다)\n",
        "2. 회귀 계수: 독립변수의 변화가 종속변수를 얼마나 변화시키는가? (식사량이 증하면 체중이 얼마나 증가하는지 알 수 있다)"
      ],
      "metadata": {
        "id": "GrK984ZdCsc9"
      }
    }
  ]
}