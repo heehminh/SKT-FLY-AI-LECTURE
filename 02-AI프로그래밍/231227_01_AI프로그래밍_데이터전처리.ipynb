{
  "nbformat": 4,
  "nbformat_minor": 0,
  "metadata": {
    "colab": {
      "provenance": []
    },
    "kernelspec": {
      "name": "python3",
      "display_name": "Python 3"
    },
    "language_info": {
      "name": "python"
    }
  },
  "cells": [
    {
      "cell_type": "markdown",
      "source": [
        "# 머신러닝 데이터 전처리\n",
        "- 레이블 인코딩\n",
        "- 원핫인코딩"
      ],
      "metadata": {
        "id": "DDvR8R3RClJB"
      }
    },
    {
      "cell_type": "markdown",
      "source": [
        "## 레이블 인코딩"
      ],
      "metadata": {
        "id": "rPOxzjAGCrZp"
      }
    },
    {
      "cell_type": "code",
      "execution_count": 1,
      "metadata": {
        "id": "aioPQhqoSGfS",
        "colab": {
          "base_uri": "https://localhost:8080/"
        },
        "outputId": "d4393770-eb3d-46ff-a50c-45839b52a8b3"
      },
      "outputs": [
        {
          "output_type": "stream",
          "name": "stdout",
          "text": [
            "labels: [0 1 5 4 2 3 2]\n",
            "encoder.classes: ['tv' '냉장고' '믹서' '선풍기' '전자레인지' '컴퓨터']\n",
            "encoder.inverse_transform : ['전자레인지' '컴퓨터' '선풍기' '믹서' '전자레인지' '믹서' 'tv' '냉장고' '냉장고']\n"
          ]
        }
      ],
      "source": [
        "from sklearn.preprocessing import LabelEncoder\n",
        "\n",
        "items = [\"tv\",\"냉장고\",\"컴퓨터\",\"전자레인지\",\"믹서\",\"선풍기\",\"믹서\"]\n",
        "encoder = LabelEncoder()\n",
        "encoder.fit(items)\n",
        "labels = encoder.transform(items)\n",
        "\n",
        "print('labels:', labels)\n",
        "print('encoder.classes:', encoder.classes_)\n",
        "print('encoder.inverse_transform :',encoder.inverse_transform([4, 5, 3, 2, 4, 2, 0, 1, 1]))"
      ]
    },
    {
      "cell_type": "markdown",
      "source": [
        "## 원핫 인코딩"
      ],
      "metadata": {
        "id": "whrXdvUgCtOr"
      }
    },
    {
      "cell_type": "code",
      "source": [
        "import pandas as pd\n",
        "df=pd.DataFrame({'items':items})\n",
        "print(df)\n",
        "\n",
        "print(pd.get_dummies(df))"
      ],
      "metadata": {
        "colab": {
          "base_uri": "https://localhost:8080/"
        },
        "id": "tTSMOrsiCsTV",
        "outputId": "ab1298e5-5ae6-4fc3-a936-d1f83339235b"
      },
      "execution_count": 2,
      "outputs": [
        {
          "output_type": "stream",
          "name": "stdout",
          "text": [
            "   items\n",
            "0     tv\n",
            "1    냉장고\n",
            "2    컴퓨터\n",
            "3  전자레인지\n",
            "4     믹서\n",
            "5    선풍기\n",
            "6     믹서\n",
            "   items_tv  items_냉장고  items_믹서  items_선풍기  items_전자레인지  items_컴퓨터\n",
            "0         1          0         0          0            0          0\n",
            "1         0          1         0          0            0          0\n",
            "2         0          0         0          0            0          1\n",
            "3         0          0         0          0            1          0\n",
            "4         0          0         1          0            0          0\n",
            "5         0          0         0          1            0          0\n",
            "6         0          0         1          0            0          0\n"
          ]
        }
      ]
    },
    {
      "cell_type": "code",
      "source": [],
      "metadata": {
        "id": "0djKLmgVCuOL"
      },
      "execution_count": null,
      "outputs": []
    }
  ]
}